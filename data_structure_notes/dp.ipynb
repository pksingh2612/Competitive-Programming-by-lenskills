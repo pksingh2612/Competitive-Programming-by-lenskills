{
 "cells": [
  {
   "cell_type": "markdown",
   "metadata": {},
   "source": [
    "#### Dynamic Programming\n",
    "\n",
    "\n",
    "##### 1. Top Down Approach - Recursion + Memorization\n",
    "##### 2. Bottom Up Approach - Tabulation\n"
   ]
  },
  {
   "cell_type": "code",
   "execution_count": null,
   "metadata": {
    "vscode": {
     "languageId": "plaintext"
    }
   },
   "outputs": [
    {
     "data": {
      "text/plain": [
       "[-1, -1, -1, -1, -1]"
      ]
     },
     "execution_count": 4,
     "metadata": {},
     "output_type": "execute_result"
    }
   ],
   "source": [
    "# https://leetcode.com/problems/fibonacci-number/\n",
    "class Solution(object):\n",
    "    def fib(self, n):\n",
    "        \"\"\"\n",
    "        :type n: int\n",
    "        :rtype: int\n",
    "        \"\"\"\n",
    "        if n<=1:\n",
    "            return n\n",
    "        return self.fib(n-1)+self.fib(n-2)\n",
    "\n",
    "print(Solution().fib(4))"
   ]
  },
  {
   "cell_type": "code",
   "execution_count": 2,
   "metadata": {},
   "outputs": [
    {
     "name": "stdout",
     "output_type": "stream",
     "text": [
      "8\n"
     ]
    }
   ],
   "source": [
    "# https://www.codingninjas.com/codestudio/problems/nth-fibonacci-number_74156\n",
    "\n",
    "# Top Down Approach\n",
    "def fib(n,dp):\n",
    "    # base case\n",
    "    if n <=1:\n",
    "        return n\n",
    "    if dp[n]!=-1:\n",
    "        return dp[n]\n",
    "    dp[n] = fib(n-1,dp)+fib(n-2,dp)\n",
    "    return dp[n]\n",
    "\n",
    "n = int(input())\n",
    "dp = []\n",
    "for i in range(0,n+1):\n",
    "    dp.append(-1)\n",
    "print(fib(n,dp))\n",
    "\n",
    "### Time Complexity O(n) & Space Complexity = O(N) for recursion + O(N) for memorization = O(2N) = O(N)\n"
   ]
  },
  {
   "cell_type": "code",
   "execution_count": 5,
   "metadata": {},
   "outputs": [
    {
     "name": "stdout",
     "output_type": "stream",
     "text": [
      "8\n"
     ]
    }
   ],
   "source": [
    "# Bottom Up Approach\n",
    "\n",
    "n = int(input())\n",
    "dp = [0,1]\n",
    "for i in range(2,n+1):\n",
    "    dp.append(dp[i-1]+dp[i-2])\n",
    "\n",
    "print(dp[n])\n"
   ]
  },
  {
   "cell_type": "code",
   "execution_count": 23,
   "metadata": {},
   "outputs": [
    {
     "name": "stdout",
     "output_type": "stream",
     "text": [
      "2\n"
     ]
    }
   ],
   "source": [
    "# Space Optimisation\n",
    "\n",
    "n = int(input())\n",
    "if n<=1:\n",
    "    print(n)\n",
    "else:\n",
    "    prev1,prev2 = 1,0\n",
    "    for i in range(2,n+1):\n",
    "        curr = prev1+prev2\n",
    "        prev2,prev1 = prev1,curr\n",
    "    print(prev1)\n",
    "\n"
   ]
  },
  {
   "cell_type": "code",
   "execution_count": null,
   "metadata": {},
   "outputs": [],
   "source": [
    "# Minimum Cost Climbing Stairs \n",
    "# "
   ]
  }
 ],
 "metadata": {
  "kernelspec": {
   "display_name": "Python 3.9.6 64-bit",
   "language": "python",
   "name": "python3"
  },
  "language_info": {
   "codemirror_mode": {
    "name": "ipython",
    "version": 3
   },
   "file_extension": ".py",
   "mimetype": "text/x-python",
   "name": "python",
   "nbconvert_exporter": "python",
   "pygments_lexer": "ipython3",
   "version": "3.9.6"
  },
  "orig_nbformat": 4,
  "vscode": {
   "interpreter": {
    "hash": "11938c6bc6919ae2720b4d5011047913343b08a43b18698fd82dedb0d4417594"
   }
  }
 },
 "nbformat": 4,
 "nbformat_minor": 2
}
