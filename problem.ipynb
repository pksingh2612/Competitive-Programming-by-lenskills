{
 "cells": [
  {
   "cell_type": "markdown",
   "metadata": {},
   "source": [
    "#### LEETCODE PATTERNS Problem"
   ]
  },
  {
   "cell_type": "markdown",
   "metadata": {},
   "source": [
    "### Problem 1 : <a href=\"https://leetcode.com/problems/contains-duplicate/\">Contains Duplicate</a>"
   ]
  },
  {
   "cell_type": "code",
   "execution_count": 7,
   "metadata": {},
   "outputs": [
    {
     "name": "stdout",
     "output_type": "stream",
     "text": [
      "True\n",
      "True\n",
      "True\n",
      "True\n"
     ]
    }
   ],
   "source": [
    "# Solution 1:\n",
    "\n",
    "\"\"\"\n",
    "Logic:\n",
    "a) Native Approach\n",
    "Time complexity: O(N^2), memory: O(1)\n",
    "\n",
    "b) We can sort it as the first step of the algorithm and then search for consecutive duplicates.\n",
    "Time complexity: O(N lg N), memory: O(1) - not counting the memory used by sort\n",
    "\n",
    "c) Using HashSet, identify whether an element has been previously encountered in the array.\n",
    "Time complexity: O(N), memory: O(N)\n",
    "\n",
    "d) Length check, after removing duplicate\n",
    "\"\"\"\n",
    "\n",
    "class Solution(object):\n",
    "\n",
    "    def sortIntergerArrayList(self,nums):\n",
    "        return sorted(nums, reverse=False)\n",
    "\n",
    "    def containsDuplicateA(self, nums):\n",
    "        \"\"\"\n",
    "        :type nums: List[int]\n",
    "        :rtype: bool\n",
    "        \"\"\"\n",
    "        first = 0\n",
    "        last = len(nums)\n",
    "        for i in range(first,last):\n",
    "            for j in range(i+1,last):\n",
    "                if nums[i] == nums[j]:\n",
    "                    return True\n",
    "        return False\n",
    "\n",
    "    def containsDuplicateB(self, nums):\n",
    "        \"\"\"\n",
    "        :type nums: List[int]\n",
    "        :rtype: bool\n",
    "        \"\"\"\n",
    "        first = 1\n",
    "        last = len(nums)\n",
    "        for i in range(first,last):\n",
    "            if nums[i] == nums[i-1]:\n",
    "                return True\n",
    "        return False\n",
    "\n",
    "    def containsDuplicateC(self, nums):\n",
    "        \"\"\"\n",
    "        :type nums: List[int]\n",
    "        :rtype: bool\n",
    "        \"\"\"\n",
    "        hash_set = set()\n",
    "        for n in nums:\n",
    "            if n in hash_set:\n",
    "                return True\n",
    "            hash_set.add(n)\n",
    "        return False\n",
    "\n",
    "    def containsDuplicateD(self, nums):\n",
    "        \"\"\"\n",
    "        :type nums: List[int]\n",
    "        :rtype: bool\n",
    "        \"\"\"\n",
    "        return True if len(nums) != len(set(nums)) else False\n",
    "\n",
    "\n",
    "solution = Solution()\n",
    "print(solution.containsDuplicateA([1,1,1,3,3,4,3,2,4,2]))\n",
    "resultantNums = solution.sortIntergerArrayList([1,1,1,3,3,4,3,2,4,2])\n",
    "print(solution.containsDuplicateB(resultantNums))\n",
    "print(solution.containsDuplicateC([1,1,1,3,3,4,3,2,4,2]))\n",
    "print(solution.containsDuplicateD([1,1,1,3,3,4,3,2,4,2]))\n"
   ]
  },
  {
   "cell_type": "markdown",
   "metadata": {},
   "source": [
    "### Problem 3 : <a href=\"https://leetcode.com/problems/find-all-numbers-disappeared-in-an-array/\">Find All Numbers Disappeared in an Array</a>"
   ]
  },
  {
   "cell_type": "code",
   "execution_count": 42,
   "metadata": {},
   "outputs": [
    {
     "name": "stdout",
     "output_type": "stream",
     "text": [
      "[5, 6]\n",
      "[5, 6]\n",
      "[]\n"
     ]
    }
   ],
   "source": [
    "# Solution 2:\n",
    "\n",
    "\"\"\"\n",
    "Logic:\n",
    "a) Native Approach (Brute Force)\n",
    "Time complexity: O(N^2), memory: O(1)\n",
    "\n",
    "b) Sort & Binary-Search\n",
    "Time complexity: O(N lg N), memory: O(1) - not counting the memory used by sort\n",
    "\n",
    "c) Using HashSet\n",
    "Time complexity: O(N), memory: O(N)\n",
    "\n",
    "d) Boolean array\n",
    "Time complexity: O(N), memory: O(N)\n",
    "\n",
    "e) Placing Elements at Correct Index\n",
    "Time complexity: O(N), memory: O(1)\n",
    "\n",
    "f) Space-Optimized using In-place modification\n",
    "Time complexity: O(N), memory: O(1)\n",
    "\n",
    "\"\"\"\n",
    "\n",
    "from basic_data_structure_algorithm.searching import Searching\n",
    "from basic_data_structure_algorithm.sorting import Sorting\n",
    "\n",
    "class Solution(object):\n",
    "    def findDisappearedNumbersA(self, nums):\n",
    "        \"\"\"\n",
    "        :type nums: List[int]\n",
    "        :rtype: List[int]\n",
    "        \"\"\"\n",
    "        \"\"\" Time Complexity:  O(n^2) & Auxiliary Space: O(1)\"\"\"\n",
    "        first = 1\n",
    "        last = len(nums) + 1\n",
    "        result = []\n",
    "        for i in range(first,last):\n",
    "            if Searching().linear_search(nums,i) == -1:\n",
    "                result.append(i)\n",
    "        return result\n",
    "\n",
    "    def findDisappearedNumbersB(self, nums):\n",
    "        \"\"\"\n",
    "        :type nums: List[int]\n",
    "        :rtype: List[int]\n",
    "        \"\"\"\n",
    "        \"\"\" Time Complexity:  O(nlogn) & Auxiliary Space: O(sort)\"\"\"\n",
    "        first = 1\n",
    "        last = len(nums) + 1\n",
    "        result = []\n",
    "        for i in range(first,last):\n",
    "            if Searching().binary_search(Sorting().bubble_sort(nums),i) == -1:\n",
    "                result.append(i)\n",
    "        return result\n",
    "\n",
    "    def findDisappearedNumbersC(self, nums):\n",
    "        \"\"\"\n",
    "        :type nums: List[int]\n",
    "        :rtype: List[int]\n",
    "        \"\"\"\n",
    "        \"\"\" Time Complexity:  O(n) & Auxiliary Space: O(n)\"\"\"\n",
    "        hash_set = set(nums)\n",
    "        first = 1\n",
    "        last = len(nums) + 1\n",
    "        count = 0\n",
    "        for n in range(first,last):\n",
    "            if n not in hash_set:\n",
    "                count+=1\n",
    "                nums.append(n)\n",
    "\n",
    "        return [] if len(nums)+1==last else nums[-count:]\n",
    "\n",
    "print(Solution().findDisappearedNumbersA([4,3,2,7,8,2,3,1]))\n",
    "print(Solution().findDisappearedNumbersB([4,3,2,7,8,2,3,1]))\n",
    "print(Solution().findDisappearedNumbersC([1,2]))"
   ]
  },
  {
   "cell_type": "code",
   "execution_count": null,
   "metadata": {},
   "outputs": [],
   "source": [
    "class Solution:\n",
    "    def sortArray(self, nums):\n",
    "        start = 0\n",
    "        end = len(nums)-1\n",
    "        while end>=start:\n",
    "            if nums[end]>nums[start]:\n",
    "                nums[start],nums[end]=nums[end],nums[start]\n",
    "                start+=1\n",
    "                end-=1\n",
    "        return nums\n",
    "\n",
    "\n",
    "s = Solution()\n",
    "s.sortArray([5,2,3,1])"
   ]
  }
 ],
 "metadata": {
  "kernelspec": {
   "display_name": "Python 3.9.6 64-bit",
   "language": "python",
   "name": "python3"
  },
  "language_info": {
   "codemirror_mode": {
    "name": "ipython",
    "version": 3
   },
   "file_extension": ".py",
   "mimetype": "text/x-python",
   "name": "python",
   "nbconvert_exporter": "python",
   "pygments_lexer": "ipython3",
   "version": "3.9.6"
  },
  "orig_nbformat": 4,
  "vscode": {
   "interpreter": {
    "hash": "11938c6bc6919ae2720b4d5011047913343b08a43b18698fd82dedb0d4417594"
   }
  }
 },
 "nbformat": 4,
 "nbformat_minor": 2
}
